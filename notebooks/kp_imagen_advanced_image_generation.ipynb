{
  "cells": [
    {
      "cell_type": "code",
      "execution_count": null,
      "metadata": {
        "id": "uxCkB_DXTHzf"
      },
      "outputs": [],
      "source": [
        "# Copyright 2023 Google LLC\n",
        "#\n",
        "# Licensed under the Apache License, Version 2.0 (the \"License\");\n",
        "# you may not use this file except in compliance with the License.\n",
        "# You may obtain a copy of the License at\n",
        "#\n",
        "#     https://www.apache.org/licenses/LICENSE-2.0\n",
        "#\n",
        "# Unless required by applicable law or agreed to in writing, software\n",
        "# distributed under the License is distributed on an \"AS IS\" BASIS,\n",
        "# WITHOUT WARRANTIES OR CONDITIONS OF ANY KIND, either express or implied.\n",
        "# See the License for the specific language governing permissions and\n",
        "# limitations under the License."
      ]
    },
    {
      "cell_type": "markdown",
      "metadata": {
        "id": "Hny4I-ODTIS6"
      },
      "source": [
        "# Image Generation with Imagen on Vertex AI\n",
        "\n",
        "<table align=\"left\">\n",
        "  <td style=\"text-align: center\">\n",
        "    <a href=\"https://colab.research.google.com/github/GoogleCloudPlatform/generative-ai/blob/main/vision/getting-started/image_generation.ipynb\">\n",
        "      <img src=\"https://cloud.google.com/ml-engine/images/colab-logo-32px.png\" alt=\"Google Colaboratory logo\"><br> Run in Colab\n",
        "    </a>\n",
        "  </td>\n",
        "  <td style=\"text-align: center\">\n",
        "    <a href=\"https://github.com/GoogleCloudPlatform/generative-ai/blob/main/vision/getting-started/image_generation.ipynb\">\n",
        "      <img src=\"https://cloud.google.com/ml-engine/images/github-logo-32px.png\" alt=\"GitHub logo\"><br> View on GitHub\n",
        "    </a>\n",
        "  </td>\n",
        "  <td style=\"text-align: center\">\n",
        "    <a href=\"https://console.cloud.google.com/vertex-ai/workbench/deploy-notebook?download_url=https://raw.githubusercontent.com/GoogleCloudPlatform/generative-ai/blob/main/vision/getting-started/image_generation.ipynb\">\n",
        "      <img src=\"https://lh3.googleusercontent.com/UiNooY4LUgW_oTvpsNhPpQzsstV5W8F7rYgxgGBD85cWJoLmrOzhVs_ksK_vgx40SHs7jCqkTkCk=e14-rj-sc0xffffff-h130-w32\" alt=\"Vertex AI logo\"><br> Open in Vertex AI Workbench\n",
        "    </a>\n",
        "  </td>\n",
        "</table>\n"
      ]
    },
    {
      "cell_type": "markdown",
      "metadata": {
        "id": "-nLS57E2TO5y"
      },
      "source": [
        "## Overview\n",
        "\n",
        "[Imagen on Vertex AI](https://cloud.google.com/vertex-ai/docs/generative-ai/image/overview) brings Google's state of the art generative AI capabilities to application developers. With Imagen on Vertex AI, application developers can build next-generation AI products that transform their user's imagination into high quality visual assets, in seconds.\n",
        "\n",
        "With Imagen, you can do the following:\n",
        "- Generate novel images using only a text prompt (text-to-image generation).\n",
        "- Edit an entire uploaded or generated image with a text prompt.\n",
        "- Edit only parts of an uploaded or generated image using a mask area you define.\n",
        "- Upscale existing, generated, or edited images.\n",
        "- Fine-tune a model with a specific subject (for example, a specific handbag or shoe) for image generation.\n",
        "- Get text descriptions of images with visual captioning.\n",
        "- Get answers to a question about an image with Visual Question Answering (VQA).\n",
        "\n",
        "This notebook focuses on **image generation** only. You can read more about image generation feature from Imagen [here](https://cloud.google.com/vertex-ai/docs/generative-ai/image/generate-images).\n"
      ]
    },
    {
      "cell_type": "markdown",
      "metadata": {
        "id": "iXsvgIuwTPZw"
      },
      "source": [
        "### Objectives\n",
        "\n",
        "In this notebook, you will be exploring the image generation features of Imagen using the Vertex AI Python SDK. You will\n",
        "\n",
        "- generate images using text prompts\n",
        "- experiment with different parameters, such as:\n",
        "    - increasing the number of images to be generated\n",
        "    - fixing a seed number for reproducibility\n",
        "    - influencing the output images using negative prompts"
      ]
    },
    {
      "cell_type": "markdown",
      "metadata": {
        "id": "skXAu__iqks_"
      },
      "source": [
        "### Costs\n",
        "\n",
        "- This notebook uses billable components of Google Cloud:\n",
        "  - Vertex AI (Imagen)\n",
        "\n",
        "- Learn about [Vertex AI pricing](https://cloud.google.com/vertex-ai/pricing) and use the [Pricing Calculator](https://cloud.google.com/products/calculator/) to generate a cost estimate based on your projected usage."
      ]
    },
    {
      "cell_type": "markdown",
      "metadata": {
        "id": "mvKl-BtQTRiQ"
      },
      "source": [
        "## Getting Started"
      ]
    },
    {
      "cell_type": "markdown",
      "metadata": {
        "id": "PwFMpIMrTV_4"
      },
      "source": [
        "### Install Vertex AI SDK for Python"
      ]
    },
    {
      "cell_type": "code",
      "execution_count": null,
      "metadata": {
        "id": "WYUu8VMdJs3V"
      },
      "outputs": [],
      "source": [
        "! pip install --quiet --upgrade --user google-cloud-aiplatform"
      ]
    },
    {
      "cell_type": "markdown",
      "metadata": {
        "id": "R5Xep4W9lq-Z"
      },
      "source": [
        "### Restart current runtime\n",
        "\n",
        "To use the newly installed packages in this Jupyter runtime, it is recommended to restart the runtime. Run the following cell to restart the current kernel.\n",
        "\n",
        "The restart process might take a minute or so."
      ]
    },
    {
      "cell_type": "code",
      "execution_count": null,
      "metadata": {
        "id": "XRvKdaPDTznN"
      },
      "outputs": [],
      "source": [
        "import IPython\n",
        "import time\n",
        "\n",
        "app = IPython.Application.instance()\n",
        "app.kernel.do_shutdown(True)"
      ]
    },
    {
      "cell_type": "markdown",
      "source": [
        "After the restart is complete, continue to the next step.\n",
        "\n"
      ],
      "metadata": {
        "id": "YIvVfyyhTPKi"
      }
    },
    {
      "cell_type": "markdown",
      "metadata": {
        "id": "SbmM4z7FOBpM"
      },
      "source": [
        "<div class=\"alert alert-block alert-warning\">\n",
        "<b>⚠️ The kernel is going to restart. Please wait until it is finished before continuing to the next step. ⚠️</b>\n",
        "</div>"
      ]
    },
    {
      "cell_type": "markdown",
      "metadata": {
        "id": "opUxT_k5TdgP"
      },
      "source": [
        "### Authenticate your notebook environment (Colab only)\n",
        "\n",
        "If you are running this notebook on Google Colab, run the following cell to authenticate your environment. This step is not required if you are using [Vertex AI Workbench](https://cloud.google.com/vertex-ai-workbench)."
      ]
    },
    {
      "cell_type": "code",
      "execution_count": null,
      "metadata": {
        "id": "vbNgv4q1T2Mi"
      },
      "outputs": [],
      "source": [
        "import sys\n",
        "\n",
        "# Addtional authentication is required for Google Colab\n",
        "if \"google.colab\" in sys.modules:\n",
        "    # Authenticate user to Google Cloud\n",
        "    from google.colab import auth\n",
        "\n",
        "    auth.authenticate_user()"
      ]
    },
    {
      "cell_type": "markdown",
      "metadata": {
        "id": "ybBXSukZkgjg"
      },
      "source": [
        "### Define Google Cloud project information (Colab only)\n",
        "\n",
        "If you are running this notebook on Google Colab, specify the Google Cloud project information to use. In the following cell, you specify your project information, import the Vertex AI package, and initialize the package. This step is not required if you are using [Vertex AI Workbench](https://cloud.google.com/vertex-ai-workbench)."
      ]
    },
    {
      "cell_type": "code",
      "execution_count": null,
      "metadata": {
        "id": "5gUjJ42Nh5kf"
      },
      "outputs": [],
      "source": [
        "import sys\n",
        "\n",
        "if \"google.colab\" in sys.modules:\n",
        "    # Define project information\n",
        "    PROJECT_ID = \"<project_id>\"  # @param {type:\"string\"}\n",
        "    LOCATION = \"us-central1\"  # @param {type:\"string\"}\n",
        "\n",
        "    # Initialize Vertex AI\n",
        "    import vertexai\n",
        "\n",
        "    vertexai.init(project=PROJECT_ID, location=LOCATION)"
      ]
    },
    {
      "cell_type": "markdown",
      "metadata": {
        "id": "lhfneknwEDHT"
      },
      "source": [
        "### Load the image generation model\n",
        "\n",
        "The model names from Vertex AI Imagen have two components: model name and version number. The naming convention follow this format: `<model-name>@<version-number>`. For example, `imagegeneration@001` represent the version **001** of the **imagetext** model.\n",
        "\n"
      ]
    },
    {
      "cell_type": "code",
      "source": [
        "from vertexai.preview.vision_models import ImageGenerationModel\n",
        "\n",
        "generation_model = ImageGenerationModel.from_pretrained(\"imagegeneration@002\")"
      ],
      "metadata": {
        "id": "nEKPNLNL5RhD"
      },
      "execution_count": null,
      "outputs": []
    },
    {
      "cell_type": "markdown",
      "source": [
        "### Generate an image\n",
        "\n",
        "The `generate_image` function can be used to generate images. All you need is a text prompt."
      ],
      "metadata": {
        "id": "qLZagQ8NUDiB"
      }
    },
    {
      "cell_type": "markdown",
      "source": [
        "###  Explore different parameters\n",
        "\n",
        "The `generate_images` function accepts additional parameters that can be used to influence the generated images. The following sections will explore how to influence the output images through the use of those additional parameters."
      ],
      "metadata": {
        "id": "3RuVUB6MVGa-"
      }
    },
    {
      "cell_type": "code",
      "source": [
        "import math\n",
        "import matplotlib.pyplot as plt\n",
        "\n",
        "\n",
        "# An axuillary function to display images in grid\n",
        "def display_images_in_grid(images):\n",
        "    \"\"\"Displays the provided images in a grid format. 4 images per row.\n",
        "\n",
        "    Args:\n",
        "        images: A list of PIL Image objects representing the images to display.\n",
        "    \"\"\"\n",
        "\n",
        "    # Determine the number of rows and columns for the grid layout.\n",
        "    nrows = math.ceil(len(images) / 4)  # Display at most 4 images per row\n",
        "    ncols = min(len(images) + 1, 4)  # Adjust columns based on the number of images\n",
        "\n",
        "    # Create a figure and axes for the grid layout.\n",
        "    fig, axes = plt.subplots(nrows=nrows, ncols=ncols, figsize=(12, 6))\n",
        "\n",
        "    for i, ax in enumerate(axes.flat):\n",
        "        if i < len(images):\n",
        "            # Display the image in the current axis.\n",
        "            ax.imshow(images[i]._pil_image)\n",
        "\n",
        "            # Adjust the axis aspect ratio to maintain image proportions.\n",
        "            ax.set_aspect(\"equal\")\n",
        "\n",
        "            # Disable axis ticks for a cleaner appearance.\n",
        "            ax.set_xticks([])\n",
        "            ax.set_yticks([])\n",
        "        else:\n",
        "            # Hide empty subplots to avoid displaying blank axes.\n",
        "            ax.axis(\"off\")\n",
        "\n",
        "    # Adjust the layout to minimize whitespace between subplots.\n",
        "    plt.tight_layout()\n",
        "\n",
        "    # Display the figure with the arranged images.\n",
        "    plt.show()"
      ],
      "metadata": {
        "id": "zbYtoZtTB98_"
      },
      "execution_count": null,
      "outputs": []
    },
    {
      "cell_type": "code",
      "source": [
        "prompt = \"hyperrealistic picture of: tow truck is towing a car that has fallen off the road. use 4k resolution.\" # @param {\"type\": \"string\"}\n",
        "response = generation_model.generate_images(\n",
        "    prompt=prompt,\n",
        "    number_of_images=4,\n",
        "    seed=42\n",
        ")\n",
        "\n",
        "display_images_in_grid(response.images)"
      ],
      "metadata": {
        "id": "B7978fMbt2fp"
      },
      "execution_count": null,
      "outputs": []
    },
    {
      "cell_type": "code",
      "source": [
        "response.images[0].show()"
      ],
      "metadata": {
        "id": "TZ12dbXo5vhh"
      },
      "execution_count": null,
      "outputs": []
    },
    {
      "cell_type": "code",
      "source": [
        "prompt = \"hyperrealistic picture of: tow truck is towing a car that has fallen off the road. use 4k resolution.\" # @param {\"type\": \"string\"}\n",
        "response = generation_model.generate_images(\n",
        "    prompt=prompt,\n",
        "    number_of_images=4,\n",
        "    seed=42\n",
        ")\n",
        "\n",
        "display_images_in_grid(response.images)"
      ],
      "metadata": {
        "id": "iZQ4Uyrz6fk9"
      },
      "execution_count": null,
      "outputs": []
    },
    {
      "cell_type": "code",
      "source": [
        "original_image_1024_1024 = response.images[0]\n",
        "original_image_1024_1024.show()\n"
      ],
      "metadata": {
        "id": "qEvWwc-m6mJb"
      },
      "execution_count": null,
      "outputs": []
    },
    {
      "cell_type": "code",
      "source": [
        "\n",
        "original_image_2048_2048 = generation_model.upscale_image(original_image_1024_1024, new_size=2048)\n",
        "original_image_2048_2048.show()"
      ],
      "metadata": {
        "id": "H33zOCpO4j5v"
      },
      "execution_count": null,
      "outputs": []
    },
    {
      "cell_type": "code",
      "source": [
        "original_image_4096_4096 = generation_model.upscale_image(original_image_1024_1024, new_size=4096)\n",
        "original_image_4096_4096.show()"
      ],
      "metadata": {
        "id": "EZH2mCt866MN"
      },
      "execution_count": null,
      "outputs": []
    },
    {
      "cell_type": "code",
      "source": [
        "prompt = \"You are the creative assistant working for a digital agency. You need an asset for the car insurance campaign. Your target audience is people of 20-40 years old, located in Madrid, Spain, looking for car insurance. Style: hyperrealistic, 4K. Description: tow truck is towing a car that has fallen off the road.\" # @param {\"type\": \"string\"}\n",
        "generation_model = ImageGenerationModel.from_pretrained(\"imagegeneration@005\")\n",
        "response = generation_model.generate_images(\n",
        "    prompt=prompt,\n",
        "    number_of_images=4,\n",
        "    seed=42\n",
        ")\n",
        "\n",
        "display_images_in_grid(response.images)"
      ],
      "metadata": {
        "id": "jz7NM3kcwmHt"
      },
      "execution_count": null,
      "outputs": []
    },
    {
      "cell_type": "code",
      "source": [
        "prompt = \"You are the creative assistant working for a digital agency. You need an asset for the car insurance campaign. Your target audience is people 70 years old, located in Madrid, Spain, looking for car insurance. Style: hyperrealistic, 4K. Description: tow truck is towing a car that has fallen off the road.\" # @param {\"type\": \"string\"}\n",
        "generation_model = ImageGenerationModel.from_pretrained(\"imagegeneration@005\")\n",
        "response = generation_model.generate_images(\n",
        "    prompt=prompt,\n",
        "    number_of_images=4,\n",
        "    seed=42\n",
        ")\n",
        "\n",
        "display_images_in_grid(response.images)"
      ],
      "metadata": {
        "id": "sV0mLMF9E4Tl"
      },
      "execution_count": null,
      "outputs": []
    },
    {
      "cell_type": "code",
      "source": [
        "prompt = \"Style: hyperrealistic, 4K. Description: tow truck is towing a car that has fallen off the road.\" # @param {\"type\": \"string\"}\n",
        "generation_model = ImageGenerationModel.from_pretrained(\"imagegeneration@005\")\n",
        "response = generation_model.generate_images(\n",
        "    prompt=prompt,\n",
        "    number_of_images=4,\n",
        "    seed=42\n",
        ")\n",
        "\n",
        "display_images_in_grid(response.images)"
      ],
      "metadata": {
        "id": "8sghmgYuFJvm"
      },
      "execution_count": null,
      "outputs": []
    },
    {
      "cell_type": "code",
      "source": [
        "! pip install pillow"
      ],
      "metadata": {
        "id": "dByKj8K6PoHT"
      },
      "execution_count": null,
      "outputs": []
    },
    {
      "cell_type": "code",
      "source": [
        "def crop_image(image, new_width, new_height):\n",
        "    \"\"\"Crops an image to a specified width and height.\n",
        "\n",
        "    Args:\n",
        "        image (Image): The PIL Image object to crop.\n",
        "        new_width (int): The desired width of the cropped image.\n",
        "        new_height (int): The desired height of the cropped image.\n",
        "\n",
        "    Returns:\n",
        "        Image: The cropped PIL Image object.\n",
        "    \"\"\"\n",
        "\n",
        "    original_width, original_height = image.size\n",
        "\n",
        "    # Calculate where to start cropping (to center the image)\n",
        "    left = (original_width - new_width) // 2\n",
        "    top = (original_height - new_height) // 2\n",
        "    right = left + new_width\n",
        "    bottom = top + new_height\n",
        "\n",
        "    return image.crop((left, top, right, bottom))\n"
      ],
      "metadata": {
        "id": "Va2-kewaPsiY"
      },
      "execution_count": null,
      "outputs": []
    },
    {
      "cell_type": "code",
      "source": [
        "import random\n",
        "from PIL import Image\n",
        "\n",
        "prompt = \"hyperrealistic picture of: tow truck is towing a car that has fallen off the road. use 4k resolution.\" # @param {\"type\": \"string\"}\n",
        "response = generation_model.generate_images(\n",
        "    prompt=prompt,\n",
        "    number_of_images=4,\n",
        "    seed=42\n",
        ")\n",
        "\n",
        "# Cropping parameters\n",
        "desired_width = 500\n",
        "desired_height = 500\n",
        "\n",
        "# Iterate through generated images and crop\n",
        "cropped_images = []\n",
        "for img in response.images:\n",
        "    cropped_img = crop_image(img, desired_width, desired_height)\n",
        "    cropped_images.append(cropped_img)\n",
        "\n",
        "display_images_in_grid(cropped_images)\n"
      ],
      "metadata": {
        "id": "DM_QxMH8PyWI"
      },
      "execution_count": null,
      "outputs": []
    },
    {
      "cell_type": "markdown",
      "source": [
        "## Conclusion\n",
        "\n",
        "You have explored the Imagen's image generation features through the Vertex AI Python SDK, including the additional parameters that influence image generation. The next step is to enhance your skills by exploring this [prompting guide](https://cloud.google.com/vertex-ai/docs/generative-ai/image/img-gen-prompt-guide?_ga=2.128324367.-2094800479.1701746552&_gac=1.219926379.1701161688.CjwKCAiAvJarBhA1EiwAGgZl0LFQUFOFZUxfNPlzjB4T00PDiLeCIEYfY-coLbX9eUfHKr_i8VbtSBoCEJQQAvD_BwE). Through practice, you will become proficient in the art of image prompting."
      ],
      "metadata": {
        "id": "sk0eXjQ1nR4F"
      }
    }
  ],
  "metadata": {
    "colab": {
      "provenance": [],
      "toc_visible": true
    },
    "environment": {
      "kernel": "python3",
      "name": "tf2-gpu.2-11.m110",
      "type": "gcloud",
      "uri": "gcr.io/deeplearning-platform-release/tf2-gpu.2-11:m110"
    },
    "kernelspec": {
      "display_name": "Python 3",
      "language": "python",
      "name": "python3"
    },
    "language_info": {
      "codemirror_mode": {
        "name": "ipython",
        "version": 3
      },
      "file_extension": ".py",
      "mimetype": "text/x-python",
      "name": "python",
      "nbconvert_exporter": "python",
      "pygments_lexer": "ipython3",
      "version": "3.10.12"
    }
  },
  "nbformat": 4,
  "nbformat_minor": 0
}